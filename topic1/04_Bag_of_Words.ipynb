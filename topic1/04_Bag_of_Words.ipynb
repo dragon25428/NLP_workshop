{
 "metadata": {
  "language_info": {
   "codemirror_mode": {
    "name": "ipython",
    "version": 3
   },
   "file_extension": ".py",
   "mimetype": "text/x-python",
   "name": "python",
   "nbconvert_exporter": "python",
   "pygments_lexer": "ipython3",
   "version": "3.7.8-final"
  },
  "orig_nbformat": 2,
  "kernelspec": {
   "name": "python3",
   "display_name": "Python 3.7.8 64-bit",
   "metadata": {
    "interpreter": {
     "hash": "417880eb038c49c346aaca12af5a57d5875e15532e722506ed6731d77d3493bc"
    }
   }
  }
 },
 "nbformat": 4,
 "nbformat_minor": 2,
 "cells": [
  {
   "source": [
    "## Practice 4 - Bag-of-Words models\n",
    "### Strictly used for internal purpose in Singapore Polytechnic. Do not disclose!"
   ],
   "cell_type": "markdown",
   "metadata": {}
  },
  {
   "cell_type": "code",
   "execution_count": 3,
   "metadata": {},
   "outputs": [],
   "source": [
    "from sklearn.feature_extraction.text import CountVectorizer"
   ]
  },
  {
   "cell_type": "code",
   "execution_count": 10,
   "metadata": {},
   "outputs": [
    {
     "output_type": "execute_result",
     "data": {
      "text/plain": [
       "['students are learning nlp',\n",
       " 'nlp workshop is interesting, students like nlp',\n",
       " 'students are studying math',\n",
       " 'math is foundation of nlp']"
      ]
     },
     "metadata": {},
     "execution_count": 10
    }
   ],
   "source": [
    "documents = [\"Students are learning NLP.\",\n",
    "             \"NLP workshop is interesting, students like NLP\",\n",
    "             \"Students are studying math\",\n",
    "             \"Math is foundation of NLP\"]\n",
    "processed_docs = [doc.lower().replace(\".\",\"\") for doc in documents]\n",
    "processed_docs"
   ]
  },
  {
   "cell_type": "code",
   "execution_count": 16,
   "metadata": {},
   "outputs": [
    {
     "output_type": "stream",
     "name": "stdout",
     "text": [
      "Our corpus:  ['students are learning nlp', 'nlp workshop is interesting, students like nlp', 'students are studying math', 'math is foundation of nlp']\nOur vocabulary:  [('are', 0), ('foundation', 1), ('interesting', 2), ('is', 3), ('learning', 4), ('like', 5), ('math', 6), ('nlp', 7), ('of', 8), ('students', 9), ('studying', 10), ('workshop', 11)]\n"
     ]
    }
   ],
   "source": [
    "#look at the documents list\n",
    "print(\"Our corpus: \", processed_docs)\n",
    "\n",
    "count_vect = CountVectorizer()\n",
    "#Build a BOW representation for the corpus\n",
    "bow_rep = count_vect.fit_transform(processed_docs)\n",
    "\n",
    "#Look at the vocabulary mapping\n",
    "print(\"Our vocabulary: \", sorted(count_vect.vocabulary_.items()))"
   ]
  },
  {
   "cell_type": "code",
   "execution_count": 17,
   "metadata": {},
   "outputs": [
    {
     "output_type": "stream",
     "name": "stdout",
     "text": [
      "BoW representation for 'Students are learning NLP.':  [[1 0 0 0 1 0 0 1 0 1 0 0]]\nBoW representation for 'NLP workshop is interesting, students like NLP':  [[0 0 1 1 0 1 0 2 0 1 0 1]]\n"
     ]
    }
   ],
   "source": [
    "#see the BOW rep for first 2 documents\n",
    "print(f\"BoW representation for '{documents[0]}': \", bow_rep[0].toarray())\n",
    "print(f\"BoW representation for '{documents[1]}': \",bow_rep[1].toarray())"
   ]
  },
  {
   "cell_type": "code",
   "execution_count": 27,
   "metadata": {},
   "outputs": [
    {
     "output_type": "stream",
     "name": "stdout",
     "text": [
      "BoW representation for 'nlp is harder than math':  [[0 0 0 1 0 0 1 1 0 0 0 0]]\n"
     ]
    }
   ],
   "source": [
    "# BOW rep for new document\n",
    "new_doc = ['nlp is harder than math']\n",
    "new_doc_bow = count_vect.transform(new_doc)\n",
    "print(f\"BoW representation for '{new_doc[0]}': \",new_doc_bow.toarray())"
   ]
  },
  {
   "cell_type": "code",
   "execution_count": 15,
   "metadata": {},
   "outputs": [
    {
     "output_type": "stream",
     "name": "stdout",
     "text": [
      "BoW representation for 'Students are learning NLP.':  [[1 0 0 0 1 0 0 1 0 1 0 0]]\nBoW representation for 'NLP workshop is interesting, students like NLP':  [[0 0 1 1 0 1 0 1 0 1 0 1]]\n"
     ]
    }
   ],
   "source": [
    "#BoW with binary vectors (just to check a token present or not)\n",
    "count_vect = CountVectorizer(binary=True)\n",
    "bow_rep_bin = count_vect.fit_transform(processed_docs)\n",
    "print(f\"BoW representation for '{documents[0]}': \", bow_rep_bin[0].toarray())\n",
    "print(f\"BoW representation for '{documents[1]}': \",bow_rep_bin[1].toarray())"
   ]
  }
 ]
}