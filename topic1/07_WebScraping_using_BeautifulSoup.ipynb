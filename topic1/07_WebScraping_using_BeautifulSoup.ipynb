{
 "metadata": {
  "language_info": {
   "codemirror_mode": {
    "name": "ipython",
    "version": 3
   },
   "file_extension": ".py",
   "mimetype": "text/x-python",
   "name": "python",
   "nbconvert_exporter": "python",
   "pygments_lexer": "ipython3",
   "version": "3.7.8-final"
  },
  "orig_nbformat": 2,
  "kernelspec": {
   "name": "python3",
   "display_name": "Python 3.7.8 64-bit",
   "metadata": {
    "interpreter": {
     "hash": "417880eb038c49c346aaca12af5a57d5875e15532e722506ed6731d77d3493bc"
    }
   }
  }
 },
 "nbformat": 4,
 "nbformat_minor": 2,
 "cells": [
  {
   "source": [
    "## Practice 7 - Web Scraping with BeautifulSoup\n",
    "### Strictly used for internal purpose in Singapore Polytechnic. Do not disclose!"
   ],
   "cell_type": "markdown",
   "metadata": {}
  },
  {
   "cell_type": "code",
   "execution_count": 2,
   "metadata": {},
   "outputs": [],
   "source": [
    "#making the necessary imports\n",
    "from pprint import pprint\n",
    "from bs4 import BeautifulSoup\n",
    "from urllib.request import urlopen"
   ]
  },
  {
   "cell_type": "code",
   "execution_count": 3,
   "metadata": {},
   "outputs": [],
   "source": [
    "myurl = \"https://stackoverflow.com/questions/415511/how-to-get-the-current-time-in-python\" #specify the url\n",
    "html = urlopen(myurl).read() #query the website so that it returns a html page  \n",
    "soupified = BeautifulSoup(html, 'html.parser') # parse the html in the 'html' variable, and store it in Beautiful Soup format"
   ]
  },
  {
   "cell_type": "code",
   "execution_count": 7,
   "metadata": {
    "tags": [
     "outputPrepend"
    ]
   },
   "outputs": [
    {
     "output_type": "stream",
     "name": "stdout",
     "text": [
      "</a></li>\n<li class=\"-item\"><a class=\"-link js-gps-track\" data-gps-track=\"footer.click({ location: 1, link: 25 })\" href=\"https://scifi.stackexchange.com\" title=\"science fiction and fantasy enthusiasts\">Science Fiction &amp; Fantasy</a></li>\n<li class=\"-item\"><a class=\"-link js-gps-track\" data-gps-track=\"footer.click({ location: 1, link: 25 })\" href=\"https://graphicdesign.stackexchange.com\" title=\"Graphic Design professionals, students, and enthusiasts\">Graphic Design</a></li>\n<li class=\"-item\"><a class=\"-link js-gps-track\" data-gps-track=\"footer.click({ location: 1, link: 25 })\" href=\"https://movies.stackexchange.com\" title=\"movie and TV enthusiasts\">Movies &amp; TV</a></li>\n<li class=\"-item\"><a class=\"-link js-gps-track\" data-gps-track=\"footer.click({ location: 1, link: 25 })\" href=\"https://music.stackexchange.com\" title=\"musicians, students, and enthusiasts\">Music: Practice &amp; Theory</a></li>\n<li class=\"-item\"><a class=\"-link js-gps-track\" data-gps-track=\"footer.click({ location: 1, link: 25 })\" href=\"https://worldbuilding.stackexchange.com\" title=\"writers/artists using science, geography and culture to construct imaginary worlds and settings\">Worldbuilding</a></li>\n<li class=\"-item\"><a class=\"-link js-gps-track\" data-gps-track=\"footer.click({ location: 1, link: 25 })\" href=\"https://video.stackexchange.com\" title=\"engineers, producers, editors, and enthusiasts spanning the fields of video, and media creation\">Video Production</a></li>\n</ul></div><div class=\"site-footer--col site-footer--category js-footer-col\" data-name=\"Life / Arts\"><ul class=\"-list\">\n<li class=\"-item\"><a class=\"-link js-gps-track\" data-gps-track=\"footer.click({ location: 1, link: 25 })\" href=\"https://cooking.stackexchange.com\" title=\"professional and amateur chefs\">Seasoned Advice (cooking)</a></li>\n<li class=\"-item\"><a class=\"-link js-gps-track\" data-gps-track=\"footer.click({ location: 1, link: 25 })\" href=\"https://diy.stackexchange.com\" title=\"contractors and serious DIYers\">Home Improvement</a></li>\n<li class=\"-item\"><a class=\"-link js-gps-track\" data-gps-track=\"footer.click({ location: 1, link: 25 })\" href=\"https://money.stackexchange.com\" title=\"people who want to be financially literate\">Personal Finance &amp; Money</a></li>\n<li class=\"-item\"><a class=\"-link js-gps-track\" data-gps-track=\"footer.click({ location: 1, link: 25 })\" href=\"https://academia.stackexchange.com\" title=\"academics and those enrolled in higher education\">Academia</a></li>\n<li class=\"-item\"><a class=\"-link js-gps-track\" data-gps-track=\"footer.click({ location: 1, link: 25 })\" href=\"https://law.stackexchange.com\" title=\"legal professionals, students, and others with experience or interest in law\">Law</a></li>\n<li class=\"-item\"><a class=\"-link js-gps-track\" data-gps-track=\"footer.click({ location: 1, link: 25 })\" href=\"https://fitness.stackexchange.com\" title=\"physical fitness professionals, athletes, trainers, and those providing health-related needs\">Physical Fitness</a></li>\n<li class=\"-item\"><a class=\"-link js-gps-track\" data-gps-track=\"footer.click({ location: 1, link: 25 })\" href=\"https://gardening.stackexchange.com\" title=\"gardeners and landscapers\">Gardening &amp; Landscaping</a></li>\n</ul></div><div class=\"site-footer--col site-footer--category js-footer-col\" data-name=\"Life / Arts\"><ul class=\"-list\">\n<li class=\"-item\"><a class=\"-link js-gps-track\" data-gps-track=\"footer.click({ location: 1, link: 25 })\" href=\"https://parenting.stackexchange.com\" title=\"parents, grandparents, nannies and others with a parenting role\">Parenting</a></li>\n<li class=\"-item\">\n<a class=\"-link js-gps-track\" data-gps-track=\"footer.click({ location: 1, link: 26 })\" href=\"https://stackexchange.com/sites#lifearts\">\n<strong>\n                            more (10)\n                        </strong>\n</a>\n</li>\n</ul>\n</div>\n<div class=\"site-footer--col site-footer--category js-footer-col\" data-name=\"Culture / Recreation\">\n<ul class=\"-list\">\n<li class=\"-item\"><a class=\"-link js-gps-track\" data-gps-track=\"footer.click({ location: 1, link: 25 })\" href=\"https://english.stackexchange.com\" title=\"linguists, etymologists, and serious English language enthusiasts\">English Language &amp; Usage</a></li>\n<li class=\"-item\"><a class=\"-link js-gps-track\" data-gps-track=\"footer.click({ location: 1, link: 25 })\" href=\"https://skeptics.stackexchange.com\" title=\"scientific skepticism\">Skeptics</a></li>\n<li class=\"-item\"><a class=\"-link js-gps-track\" data-gps-track=\"footer.click({ location: 1, link: 25 })\" href=\"https://judaism.stackexchange.com\" title=\"those who base their lives on Jewish law and tradition and anyone interested in learning more\">Mi Yodeya (Judaism)</a></li>\n<li class=\"-item\"><a class=\"-link js-gps-track\" data-gps-track=\"footer.click({ location: 1, link: 25 })\" href=\"https://travel.stackexchange.com\" title=\"road warriors and seasoned travelers\">Travel</a></li>\n<li class=\"-item\"><a class=\"-link js-gps-track\" data-gps-track=\"footer.click({ location: 1, link: 25 })\" href=\"https://christianity.stackexchange.com\" title=\"committed Christians, experts in Christianity and those interested in learning more\">Christianity</a></li>\n<li class=\"-item\"><a class=\"-link js-gps-track\" data-gps-track=\"footer.click({ location: 1, link: 25 })\" href=\"https://ell.stackexchange.com\" title=\"speakers of other languages learning English\">English Language Learners</a></li>\n<li class=\"-item\"><a class=\"-link js-gps-track\" data-gps-track=\"footer.click({ location: 1, link: 25 })\" href=\"https://japanese.stackexchange.com\" title=\"students, teachers, and linguists wanting to discuss the finer points of the Japanese language\">Japanese Language</a></li>\n</ul></div><div class=\"site-footer--col site-footer--category js-footer-col\" data-name=\"Culture / Recreation\"><ul class=\"-list\">\n<li class=\"-item\"><a class=\"-link js-gps-track\" data-gps-track=\"footer.click({ location: 1, link: 25 })\" href=\"https://chinese.stackexchange.com\" title=\"students, teachers, and linguists wanting to discuss the finer points of the Chinese language\">Chinese Language</a></li>\n<li class=\"-item\"><a class=\"-link js-gps-track\" data-gps-track=\"footer.click({ location: 1, link: 25 })\" href=\"https://french.stackexchange.com\" title=\"students, teachers, and linguists wanting to discuss the finer points of the French language\">French Language</a></li>\n<li class=\"-item\"><a class=\"-link js-gps-track\" data-gps-track=\"footer.click({ location: 1, link: 25 })\" href=\"https://german.stackexchange.com\" title=\"speakers of German wanting to discuss the finer points of the language and translation\">German Language</a></li>\n<li class=\"-item\"><a class=\"-link js-gps-track\" data-gps-track=\"footer.click({ location: 1, link: 25 })\" href=\"https://hermeneutics.stackexchange.com\" title=\"professors, theologians, and those interested in exegetical analysis of biblical texts\">Biblical Hermeneutics</a></li>\n<li class=\"-item\"><a class=\"-link js-gps-track\" data-gps-track=\"footer.click({ location: 1, link: 25 })\" href=\"https://history.stackexchange.com\" title=\"historians and history buffs\">History</a></li>\n<li class=\"-item\"><a class=\"-link js-gps-track\" data-gps-track=\"footer.click({ location: 1, link: 25 })\" href=\"https://spanish.stackexchange.com\" title=\"linguists, teachers, students and Spanish language enthusiasts in general wanting to discuss the finer points of the language\">Spanish Language</a></li>\n<li class=\"-item\"><a class=\"-link js-gps-track\" data-gps-track=\"footer.click({ location: 1, link: 25 })\" href=\"https://islam.stackexchange.com\" title=\"Muslims, experts in Islam, and those interested in learning more about Islam\">Islam</a></li>\n</ul></div><div class=\"site-footer--col site-footer--category js-footer-col\" data-name=\"Culture / Recreation\"><ul class=\"-list\">\n<li class=\"-item\"><a class=\"-link js-gps-track\" data-gps-track=\"footer.click({ location: 1, link: 25 })\" href=\"https://rus.stackexchange.com\" title=\"лингвистов и энтузиастов русского языка\">Русский язык</a></li>\n<li class=\"-item\"><a class=\"-link js-gps-track\" data-gps-track=\"footer.click({ location: 1, link: 25 })\" href=\"https://russian.stackexchange.com\" title=\"students, teachers, and linguists wanting to discuss the finer points of the Russian language\">Russian Language</a></li>\n<li class=\"-item\"><a class=\"-link js-gps-track\" data-gps-track=\"footer.click({ location: 1, link: 25 })\" href=\"https://gaming.stackexchange.com\" title=\"passionate videogamers on all platforms\">Arqade (gaming)</a></li>\n<li class=\"-item\"><a class=\"-link js-gps-track\" data-gps-track=\"footer.click({ location: 1, link: 25 })\" href=\"https://bicycles.stackexchange.com\" title=\"people who build and repair bicycles, people who train cycling, or commute on bicycles\">Bicycles</a></li>\n<li class=\"-item\"><a class=\"-link js-gps-track\" data-gps-track=\"footer.click({ location: 1, link: 25 })\" href=\"https://rpg.stackexchange.com\" title=\"gamemasters and players of tabletop, paper-and-pencil role-playing games\">Role-playing Games</a></li>\n<li class=\"-item\"><a class=\"-link js-gps-track\" data-gps-track=\"footer.click({ location: 1, link: 25 })\" href=\"https://anime.stackexchange.com\" title=\"anime and manga fans\">Anime &amp; Manga</a></li>\n<li class=\"-item\"><a class=\"-link js-gps-track\" data-gps-track=\"footer.click({ location: 1, link: 25 })\" href=\"https://puzzling.stackexchange.com\" title=\"those who create, solve, and study puzzles\">Puzzling</a></li>\n</ul></div><div class=\"site-footer--col site-footer--category js-footer-col\" data-name=\"Culture / Recreation\"><ul class=\"-list\">\n<li class=\"-item\"><a class=\"-link js-gps-track\" data-gps-track=\"footer.click({ location: 1, link: 25 })\" href=\"https://mechanics.stackexchange.com\" title=\"mechanics and DIY enthusiast owners of cars, trucks, and motorcycles\">Motor Vehicle Maintenance &amp; Repair</a></li>\n<li class=\"-item\"><a class=\"-link js-gps-track\" data-gps-track=\"footer.click({ location: 1, link: 25 })\" href=\"https://boardgames.stackexchange.com\" title=\"people who like playing board games, designing board games or modifying the rules of existing board games\">Board &amp; Card Games</a></li>\n<li class=\"-item\"><a class=\"-link js-gps-track\" data-gps-track=\"footer.click({ location: 1, link: 25 })\" href=\"https://bricks.stackexchange.com\" title=\"LEGO® and building block enthusiasts\">Bricks</a></li>\n<li class=\"-item\"><a class=\"-link js-gps-track\" data-gps-track=\"footer.click({ location: 1, link: 25 })\" href=\"https://homebrew.stackexchange.com\" title=\"dedicated home brewers and serious enthusiasts\">Homebrewing</a></li>\n<li class=\"-item\"><a class=\"-link js-gps-track\" data-gps-track=\"footer.click({ location: 1, link: 25 })\" href=\"https://martialarts.stackexchange.com\" title=\"students and teachers of all martial arts\">Martial Arts</a></li>\n<li class=\"-item\"><a class=\"-link js-gps-track\" data-gps-track=\"footer.click({ location: 1, link: 25 })\" href=\"https://outdoors.stackexchange.com\" title=\"people who love being outdoors enjoying nature and wilderness, and learning about the required skills and equipment\">The Great Outdoors</a></li>\n<li class=\"-item\"><a class=\"-link js-gps-track\" data-gps-track=\"footer.click({ location: 1, link: 25 })\" href=\"https://poker.stackexchange.com\" title=\"serious players and enthusiasts of poker\">Poker</a></li>\n</ul></div><div class=\"site-footer--col site-footer--category js-footer-col\" data-name=\"Culture / Recreation\"><ul class=\"-list\">\n<li class=\"-item\"><a class=\"-link js-gps-track\" data-gps-track=\"footer.click({ location: 1, link: 25 })\" href=\"https://chess.stackexchange.com\" title=\"serious players and enthusiasts of chess\">Chess</a></li>\n<li class=\"-item\"><a class=\"-link js-gps-track\" data-gps-track=\"footer.click({ location: 1, link: 25 })\" href=\"https://sports.stackexchange.com\" title=\"participants in team and individual sport activities\">Sports</a></li>\n<li class=\"-item\">\n<a class=\"-link js-gps-track\" data-gps-track=\"footer.click({ location: 1, link: 26 })\" href=\"https://stackexchange.com/sites#culturerecreation\">\n<strong>\n                            more (16)\n                        </strong>\n</a>\n</li>\n</ul>\n</div>\n<div class=\"site-footer--col site-footer--category js-footer-col\" data-name=\"Science\">\n<ul class=\"-list\">\n<li class=\"-item\"><a class=\"-link js-gps-track\" data-gps-track=\"footer.click({ location: 1, link: 25 })\" href=\"https://mathoverflow.net\" title=\"professional mathematicians\">MathOverflow</a></li>\n<li class=\"-item\"><a class=\"-link js-gps-track\" data-gps-track=\"footer.click({ location: 1, link: 25 })\" href=\"https://math.stackexchange.com\" title=\"people studying math at any level and professionals in related fields\">Mathematics</a></li>\n<li class=\"-item\"><a class=\"-link js-gps-track\" data-gps-track=\"footer.click({ location: 1, link: 25 })\" href=\"https://stats.stackexchange.com\" title=\"people interested in statistics, machine learning, data analysis, data mining, and data visualization\">Cross Validated (stats)</a></li>\n<li class=\"-item\"><a class=\"-link js-gps-track\" data-gps-track=\"footer.click({ location: 1, link: 25 })\" href=\"https://cstheory.stackexchange.com\" title=\"theoretical computer scientists and researchers in related fields\">Theoretical Computer Science</a></li>\n<li class=\"-item\"><a class=\"-link js-gps-track\" data-gps-track=\"footer.click({ location: 1, link: 25 })\" href=\"https://physics.stackexchange.com\" title=\"active researchers, academics and students of physics\">Physics</a></li>\n<li class=\"-item\"><a class=\"-link js-gps-track\" data-gps-track=\"footer.click({ location: 1, link: 25 })\" href=\"https://chemistry.stackexchange.com\" title=\"scientists, academics, teachers, and students in the field of chemistry\">Chemistry</a></li>\n<li class=\"-item\"><a class=\"-link js-gps-track\" data-gps-track=\"footer.click({ location: 1, link: 25 })\" href=\"https://biology.stackexchange.com\" title=\"biology researchers, academics, and students\">Biology</a></li>\n</ul></div><div class=\"site-footer--col site-footer--category js-footer-col\" data-name=\"Science\"><ul class=\"-list\">\n<li class=\"-item\"><a class=\"-link js-gps-track\" data-gps-track=\"footer.click({ location: 1, link: 25 })\" href=\"https://cs.stackexchange.com\" title=\"students, researchers and practitioners of computer science\">Computer Science</a></li>\n<li class=\"-item\"><a class=\"-link js-gps-track\" data-gps-track=\"footer.click({ location: 1, link: 25 })\" href=\"https://philosophy.stackexchange.com\" title=\"those interested in the study of the fundamental nature of knowledge, reality, and existence\">Philosophy</a></li>\n<li class=\"-item\"><a class=\"-link js-gps-track\" data-gps-track=\"footer.click({ location: 1, link: 25 })\" href=\"https://linguistics.stackexchange.com\" title=\"professional linguists and others with an interest in linguistic research and theory\">Linguistics</a></li>\n<li class=\"-item\"><a class=\"-link js-gps-track\" data-gps-track=\"footer.click({ location: 1, link: 25 })\" href=\"https://psychology.stackexchange.com\" title=\"practitioners, researchers, and students in cognitive science, psychology, neuroscience, and psychiatry\">Psychology &amp; Neuroscience</a></li>\n<li class=\"-item\"><a class=\"-link js-gps-track\" data-gps-track=\"footer.click({ location: 1, link: 25 })\" href=\"https://scicomp.stackexchange.com\" title=\"scientists using computers to solve scientific problems\">Computational Science</a></li>\n<li class=\"-item\">\n<a class=\"-link js-gps-track\" data-gps-track=\"footer.click({ location: 1, link: 26 })\" href=\"https://stackexchange.com/sites#science\">\n<strong>\n                            more (10)\n                        </strong>\n</a>\n</li>\n</ul>\n</div>\n<div class=\"site-footer--col site-footer--category js-footer-col\" data-name=\"Other\">\n<ul class=\"-list\">\n<li class=\"-item\"><a class=\"-link js-gps-track\" data-gps-track=\"footer.click({ location: 1, link: 25 })\" href=\"https://meta.stackexchange.com\" title=\"meta-discussion of the Stack Exchange family of Q&amp;A websites\">Meta Stack Exchange</a></li>\n<li class=\"-item\"><a class=\"-link js-gps-track\" data-gps-track=\"footer.click({ location: 1, link: 25 })\" href=\"https://stackapps.com\" title=\"apps, scripts, and development with the Stack Exchange API\">Stack Apps</a></li>\n<li class=\"-item\"><a class=\"-link js-gps-track\" data-gps-track=\"footer.click({ location: 1, link: 25 })\" href=\"https://api.stackexchange.com\" title=\"programmatic interaction with Stack Exchange sites\">API</a></li>\n<li class=\"-item\"><a class=\"-link js-gps-track\" data-gps-track=\"footer.click({ location: 1, link: 25 })\" href=\"https://data.stackexchange.com\" title=\"querying Stack Exchange data using SQL\">Data</a></li>\n</ul>\n</div>\n</div>\n</nav>\n<div class=\"site-footer--copyright fs-fine\">\n<ul class=\"-list\">\n<li class=\"-item\"><a class=\"js-gps-track -link\" data-gps-track=\"footer.click({ location: 2, link:4 })\" href=\"https://stackoverflow.blog?blb=1\">Blog</a></li>\n<li class=\"-item\"><a class=\"-link js-gps-track\" data-gps-track=\"footer.click({ location: 2, link: 31 })\" href=\"https://www.facebook.com/officialstackoverflow/\">Facebook</a></li>\n<li class=\"-item\"><a class=\"-link js-gps-track\" data-gps-track=\"footer.click({ location: 2, link: 32 })\" href=\"https://twitter.com/stackoverflow\">Twitter</a></li>\n<li class=\"-item\"><a class=\"-link js-gps-track\" data-gps-track=\"footer.click({ location: 2, link: 33 })\" href=\"https://linkedin.com/company/stack-overflow\">LinkedIn</a></li>\n<li class=\"-item\"><a class=\"-link js-gps-track\" data-gps-track=\"footer.click({ location: 2, link: 36 })\" href=\"https://www.instagram.com/thestackoverflow\">Instagram</a></li>\n</ul>\n<p class=\"mt-auto mb24\">\nsite design / logo © 2021 Stack Exchange Inc; user contributions licensed under <a href=\"https://stackoverflow.com/help/licensing\">cc by-sa</a>.                    <span id=\"svnrev\">rev 2021.1.29.38441</span>\n</p>\n</div>\n</div>\n</footer>\n<script>StackExchange.ready(function () { StackExchange.responsiveness.addSwitcher(); })</script>\n<noscript>\n<div id=\"noscript-warning\">Stack Overflow works best with JavaScript enabled\n            <img alt=\"\" class=\"dno\" src=\"https://pixel.quantserve.com/pixel/p-c1rF4kxgLUzNc.gif\"/>\n</div>\n</noscript>\n<script>\n(function(i, s, o, g, r, a, m) {\n                i['GoogleAnalyticsObject'] = r; i[r] = i[r] || function() { (i[r].q = i[r].q || []).push(arguments) }, i[r].l = 1 * new Date(); a = s.createElement(o),\n                m = s.getElementsByTagName(o)[0]; a.async = 1; a.src = g; m.parentNode.insertBefore(a, m);\n            })(window, document, 'script', 'https://www.google-analytics.com/analytics.js', 'ga');\n\n            StackExchange.ready(function () {\n\n                StackExchange.ga.init({\n                    autoLink: [\"stackoverflow.blog\",\"info.stackoverflowsolutions.com\",\"stackoverflowsolutions.com\"],\n                    sendTitles: true,\n                    tracker: window.ga,\n                    trackingCodes: [\n                        'UA-108242619-1'\n                    ],\n                        checkDimension: 'dimension42'\n                });\n\n\n\n                    StackExchange.ga.setDimension('dimension2', '|python|datetime|time|');\n\n                    StackExchange.ga.setDimension('dimension3', 'Questions/Show');\n\n\n                StackExchange.ga.trackPageView();\n            });\n            \n            var _qevents = _qevents || [],\n            _comscore = _comscore || [];\n            (function() {\n                var s = document.getElementsByTagName('script')[0],\n                    qc = document.createElement('script');\n qc.async = true;\n                    qc.src = 'https://secure.quantserve.com/quant.js';\n                    s.parentNode.insertBefore(qc, s);\n                    _qevents.push({ qacct: \"p-c1rF4kxgLUzNc\" }); var sc = document.createElement('script');\n                    sc.async = true;\n                    sc.src = 'https://sb.scorecardresearch.com/beacon.js';\n                    s.parentNode.insertBefore(sc, s);\n                    _comscore.push({ c1: \"2\", c2: \"17440561\" });            })();\n                </script>\n<style>#consent-footer-link { display: none; visibility: hidden; }</style>\n</body>\n</html>\n\n"
     ]
    }
   ],
   "source": [
    "pprint(soupified)"
   ]
  },
  {
   "cell_type": "code",
   "execution_count": 8,
   "metadata": {},
   "outputs": [
    {
     "output_type": "execute_result",
     "data": {
      "text/plain": [
       "<title>datetime - How to get the current time in Python - Stack Overflow</title>"
      ]
     },
     "metadata": {},
     "execution_count": 8
    }
   ],
   "source": [
    "soupified.title #to get the title of the web page"
   ]
  },
  {
   "cell_type": "code",
   "execution_count": 5,
   "metadata": {},
   "outputs": [
    {
     "output_type": "stream",
     "name": "stdout",
     "text": [
      "Question: \n What is the module/method used to get the current time?\nBest answer: \n Use:\n>>> import datetime\n>>> datetime.datetime.now()\ndatetime.datetime(2009, 1, 6, 15, 8, 24, 78915)\n\n>>> print(datetime.datetime.now())\n2009-01-06 15:08:24.789150\n\nAnd just the time:\n>>> datetime.datetime.now().time()\ndatetime.time(15, 8, 24, 78915)\n\n>>> print(datetime.datetime.now().time())\n15:08:24.789150\n\nSee the documentation for more information.\nTo save typing, you can import the datetime object from the datetime module:\n>>> from datetime import datetime\n\nThen remove the leading datetime. from all of the above.\n"
     ]
    }
   ],
   "source": [
    "question = soupified.find(\"div\", {\"class\": \"question\"}) #find the nevessary tag and class which it belongs to\n",
    "questiontext = question.find(\"div\", {\"class\": \"s-prose js-post-body\"})\n",
    "print(\"Question: \\n\", questiontext.get_text().strip())\n",
    "\n",
    "answer = soupified.find(\"div\", {\"class\": \"answer\"}) #find the nevessary tag and class which it belongs to\n",
    "answertext = answer.find(\"div\", {\"class\": \"s-prose js-post-body\"})\n",
    "print(\"Best answer: \\n\", answertext.get_text().strip())"
   ]
  },
  {
   "source": [
    "BeautifulSoup is one of the many libraries which allow us to scrape web pages. Depending on your needs you can choose between the many available choices like beautifulsoup, scrapy, selenium, etc"
   ],
   "cell_type": "markdown",
   "metadata": {}
  }
 ]
}