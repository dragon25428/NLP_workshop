{
 "metadata": {
  "language_info": {
   "codemirror_mode": {
    "name": "ipython",
    "version": 3
   },
   "file_extension": ".py",
   "mimetype": "text/x-python",
   "name": "python",
   "nbconvert_exporter": "python",
   "pygments_lexer": "ipython3",
   "version": "3.7.8-final"
  },
  "orig_nbformat": 2,
  "kernelspec": {
   "name": "python3",
   "display_name": "Python 3.7.8 64-bit",
   "metadata": {
    "interpreter": {
     "hash": "417880eb038c49c346aaca12af5a57d5875e15532e722506ed6731d77d3493bc"
    }
   }
  }
 },
 "nbformat": 4,
 "nbformat_minor": 2,
 "cells": [
  {
   "source": [
    "## Practice 6 - TF-IDF models\n",
    "### Strictly used for internal purpose in Singapore Polytechnic. Do not disclose!"
   ],
   "cell_type": "markdown",
   "metadata": {}
  },
  {
   "cell_type": "code",
   "execution_count": 14,
   "metadata": {},
   "outputs": [],
   "source": [
    "from sklearn.feature_extraction.text import TfidfVectorizer, CountVectorizer\n",
    "import pandas as pd"
   ]
  },
  {
   "cell_type": "code",
   "execution_count": 15,
   "metadata": {},
   "outputs": [
    {
     "output_type": "execute_result",
     "data": {
      "text/plain": [
       "['it is going to rain today',\n",
       " 'today i am not going outside',\n",
       " 'i am going to learn nlp today',\n",
       " 'it is delicious dinner']"
      ]
     },
     "metadata": {},
     "execution_count": 15
    }
   ],
   "source": [
    "documents = ['It is going to rain today',\n",
    "             'Today I am not going outside',\n",
    "             'I am going to learn NLP today',\n",
    "             'It is delicious dinner']\n",
    "processed_docs = [doc.lower().replace(\".\",\"\") for doc in documents]\n",
    "processed_docs"
   ]
  },
  {
   "source": [
    "## Count Vectorizer"
   ],
   "cell_type": "markdown",
   "metadata": {}
  },
  {
   "cell_type": "code",
   "execution_count": 16,
   "metadata": {},
   "outputs": [],
   "source": [
    "countvect = CountVectorizer()\n",
    "countvect_rep = countvect.fit_transform(processed_docs)"
   ]
  },
  {
   "cell_type": "code",
   "execution_count": 17,
   "metadata": {},
   "outputs": [
    {
     "output_type": "execute_result",
     "data": {
      "text/plain": [
       "                               am  delicious  dinner  going  is  it  learn  \\\n",
       "It is going to rain today       0          0       0      1   1   1      0   \n",
       "Today I am not going outside    1          0       0      1   0   0      0   \n",
       "I am going to learn NLP today   1          0       0      1   0   0      1   \n",
       "It is delicious dinner          0          1       1      0   1   1      0   \n",
       "\n",
       "                               nlp  not  outside  rain  to  today  \n",
       "It is going to rain today        0    0        0     1   1      1  \n",
       "Today I am not going outside     0    1        1     0   0      1  \n",
       "I am going to learn NLP today    1    0        0     0   1      1  \n",
       "It is delicious dinner           0    0        0     0   0      0  "
      ],
      "text/html": "<div>\n<style scoped>\n    .dataframe tbody tr th:only-of-type {\n        vertical-align: middle;\n    }\n\n    .dataframe tbody tr th {\n        vertical-align: top;\n    }\n\n    .dataframe thead th {\n        text-align: right;\n    }\n</style>\n<table border=\"1\" class=\"dataframe\">\n  <thead>\n    <tr style=\"text-align: right;\">\n      <th></th>\n      <th>am</th>\n      <th>delicious</th>\n      <th>dinner</th>\n      <th>going</th>\n      <th>is</th>\n      <th>it</th>\n      <th>learn</th>\n      <th>nlp</th>\n      <th>not</th>\n      <th>outside</th>\n      <th>rain</th>\n      <th>to</th>\n      <th>today</th>\n    </tr>\n  </thead>\n  <tbody>\n    <tr>\n      <th>It is going to rain today</th>\n      <td>0</td>\n      <td>0</td>\n      <td>0</td>\n      <td>1</td>\n      <td>1</td>\n      <td>1</td>\n      <td>0</td>\n      <td>0</td>\n      <td>0</td>\n      <td>0</td>\n      <td>1</td>\n      <td>1</td>\n      <td>1</td>\n    </tr>\n    <tr>\n      <th>Today I am not going outside</th>\n      <td>1</td>\n      <td>0</td>\n      <td>0</td>\n      <td>1</td>\n      <td>0</td>\n      <td>0</td>\n      <td>0</td>\n      <td>0</td>\n      <td>1</td>\n      <td>1</td>\n      <td>0</td>\n      <td>0</td>\n      <td>1</td>\n    </tr>\n    <tr>\n      <th>I am going to learn NLP today</th>\n      <td>1</td>\n      <td>0</td>\n      <td>0</td>\n      <td>1</td>\n      <td>0</td>\n      <td>0</td>\n      <td>1</td>\n      <td>1</td>\n      <td>0</td>\n      <td>0</td>\n      <td>0</td>\n      <td>1</td>\n      <td>1</td>\n    </tr>\n    <tr>\n      <th>It is delicious dinner</th>\n      <td>0</td>\n      <td>1</td>\n      <td>1</td>\n      <td>0</td>\n      <td>1</td>\n      <td>1</td>\n      <td>0</td>\n      <td>0</td>\n      <td>0</td>\n      <td>0</td>\n      <td>0</td>\n      <td>0</td>\n      <td>0</td>\n    </tr>\n  </tbody>\n</table>\n</div>"
     },
     "metadata": {},
     "execution_count": 17
    }
   ],
   "source": [
    "pd.DataFrame(countvect_rep.toarray(),\n",
    "             columns=countvect.get_feature_names(),\n",
    "             index=documents)"
   ]
  },
  {
   "source": [
    "## TD-IDF Vectorizer"
   ],
   "cell_type": "markdown",
   "metadata": {}
  },
  {
   "cell_type": "code",
   "execution_count": 18,
   "metadata": {},
   "outputs": [],
   "source": [
    "tfidf = TfidfVectorizer()\n",
    "tfidf_rep = tfidf.fit_transform(processed_docs)"
   ]
  },
  {
   "cell_type": "code",
   "execution_count": 20,
   "metadata": {},
   "outputs": [
    {
     "output_type": "execute_result",
     "data": {
      "text/plain": [
       "                                 am  delicious  dinner  going    is    it  \\\n",
       "It is going to rain today      0.00       0.00    0.00   0.33  0.41  0.41   \n",
       "Today I am not going outside   0.43       0.00    0.00   0.34  0.00  0.00   \n",
       "I am going to learn NLP today  0.39       0.00    0.00   0.32  0.00  0.00   \n",
       "It is delicious dinner         0.00       0.56    0.56   0.00  0.44  0.44   \n",
       "\n",
       "                               learn  nlp   not  outside  rain    to  today  \n",
       "It is going to rain today        0.0  0.0  0.00     0.00  0.52  0.41   0.33  \n",
       "Today I am not going outside     0.0  0.0  0.54     0.54  0.00  0.00   0.34  \n",
       "I am going to learn NLP today    0.5  0.5  0.00     0.00  0.00  0.39   0.32  \n",
       "It is delicious dinner           0.0  0.0  0.00     0.00  0.00  0.00   0.00  "
      ],
      "text/html": "<div>\n<style scoped>\n    .dataframe tbody tr th:only-of-type {\n        vertical-align: middle;\n    }\n\n    .dataframe tbody tr th {\n        vertical-align: top;\n    }\n\n    .dataframe thead th {\n        text-align: right;\n    }\n</style>\n<table border=\"1\" class=\"dataframe\">\n  <thead>\n    <tr style=\"text-align: right;\">\n      <th></th>\n      <th>am</th>\n      <th>delicious</th>\n      <th>dinner</th>\n      <th>going</th>\n      <th>is</th>\n      <th>it</th>\n      <th>learn</th>\n      <th>nlp</th>\n      <th>not</th>\n      <th>outside</th>\n      <th>rain</th>\n      <th>to</th>\n      <th>today</th>\n    </tr>\n  </thead>\n  <tbody>\n    <tr>\n      <th>It is going to rain today</th>\n      <td>0.00</td>\n      <td>0.00</td>\n      <td>0.00</td>\n      <td>0.33</td>\n      <td>0.41</td>\n      <td>0.41</td>\n      <td>0.0</td>\n      <td>0.0</td>\n      <td>0.00</td>\n      <td>0.00</td>\n      <td>0.52</td>\n      <td>0.41</td>\n      <td>0.33</td>\n    </tr>\n    <tr>\n      <th>Today I am not going outside</th>\n      <td>0.43</td>\n      <td>0.00</td>\n      <td>0.00</td>\n      <td>0.34</td>\n      <td>0.00</td>\n      <td>0.00</td>\n      <td>0.0</td>\n      <td>0.0</td>\n      <td>0.54</td>\n      <td>0.54</td>\n      <td>0.00</td>\n      <td>0.00</td>\n      <td>0.34</td>\n    </tr>\n    <tr>\n      <th>I am going to learn NLP today</th>\n      <td>0.39</td>\n      <td>0.00</td>\n      <td>0.00</td>\n      <td>0.32</td>\n      <td>0.00</td>\n      <td>0.00</td>\n      <td>0.5</td>\n      <td>0.5</td>\n      <td>0.00</td>\n      <td>0.00</td>\n      <td>0.00</td>\n      <td>0.39</td>\n      <td>0.32</td>\n    </tr>\n    <tr>\n      <th>It is delicious dinner</th>\n      <td>0.00</td>\n      <td>0.56</td>\n      <td>0.56</td>\n      <td>0.00</td>\n      <td>0.44</td>\n      <td>0.44</td>\n      <td>0.0</td>\n      <td>0.0</td>\n      <td>0.00</td>\n      <td>0.00</td>\n      <td>0.00</td>\n      <td>0.00</td>\n      <td>0.00</td>\n    </tr>\n  </tbody>\n</table>\n</div>"
     },
     "metadata": {},
     "execution_count": 20
    }
   ],
   "source": [
    "pd.DataFrame(tfidf_rep.toarray(),\n",
    "             columns=tfidf.get_feature_names(),\n",
    "             index=documents).round(2)"
   ]
  },
  {
   "cell_type": "code",
   "execution_count": 27,
   "metadata": {},
   "outputs": [
    {
     "output_type": "execute_result",
     "data": {
      "text/plain": [
       "array([[0.        , 0.        , 0.        , 0.        , 0.43779123,\n",
       "        0.        , 0.55528266, 0.55528266, 0.        , 0.        ,\n",
       "        0.        , 0.43779123, 0.        ]])"
      ]
     },
     "metadata": {},
     "execution_count": 27
    }
   ],
   "source": [
    "# use tfidf to vectorize a new setence\n",
    "tfidf.transform(['nlp is difficult to learn']).toarray()"
   ]
  }
 ]
}